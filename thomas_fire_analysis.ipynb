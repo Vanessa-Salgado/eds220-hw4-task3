{
 "cells": [
  {
   "cell_type": "markdown",
   "id": "b5927fb0",
   "metadata": {},
   "source": [
    "# Thomas Wildfire Perimeter and Air Quality Index\n",
    "Hwk 2-Task 2: Air Quality Index Data + Hwk4-Task 2: False color image"
   ]
  },
  {
   "cell_type": "markdown",
   "id": "6d84fb1b",
   "metadata": {},
   "source": [
    "Author: Vanessa Salgado\n",
    "\n",
    "Link to GitHub repository: https://github.com/Vanessa-Salgado/eds220-hw4-task3"
   ]
  },
  {
   "cell_type": "markdown",
   "id": "4001670c",
   "metadata": {},
   "source": [
    "## Purpose\n",
    "The Thomas Fires was a massife wildfire that affected Ventura and Santa Barbara counties in December 2017. \n",
    "The Thomas Fire destroyed at least 1,063 structures, while damaging 280 others; and the fire caused over $2.2 billion (2018 USD) in damages. As of August 2020, the Thomas Fire is California's tenth-most destructive wildfire. In this notebook we analyze the Air Quality Index that occured the time leading up to and after the Thomas Fire. We will create a map of the Thomas Fire perimeter to visualize the damage using `landsat 8` imagery "
   ]
  },
  {
   "cell_type": "markdown",
   "id": "daef3683",
   "metadata": {},
   "source": [
    "### Highlights\n",
    "\n",
    "* Data wrangling and exploration of with pandas\n",
    "* Geospatial data wrangling with geopandas\n",
    "* Merging of tabular and vector data\n",
    "* Creating and customizing raster map "
   ]
  },
  {
   "cell_type": "markdown",
   "id": "20fbbe8d",
   "metadata": {},
   "source": [
    "### Dataset Description\n",
    "\n",
    "In this notebook we use N datasets: \n",
    "\n",
    "**1) US EPA Air Quality Index(AQI)**\n",
    "\n",
    "The US Environmentla Protection Agency air quality collects data from outdoor monitors across the United States, Puerto Rico, and the U.S Virgin Islands. The data comes primarily from the AQS (Air Quality System) database.\n",
    "\n",
    "This data set was downloaded from the EPA AirData portal. The data was available from the Pre-Generate Data Files that collects daily AQI readings by county per year [https://aqs.epa.gov/aqsweb/airdata/download_files.html#AQI]. The files are updated twice per year: once in June to capture the complete data for the prior year and once in December to capture the data for the summer (ozone season). For this analysis we collect the will use the following columns of interest: \n",
    "\n",
    "* date: \n",
    "* county Name: \n",
    "* Date: \n",
    "* AQI: \n",
    "* \n",
    "\n",
    "We specifically look at 2017 and 2018 in order to study the before and after affects of the Thomas Fire\n",
    "\n",
    "Access here: \n",
    "\n",
    "**2)Landsat 8 Surface Reflectance Satellite Data**\n",
    "\n",
    "A simplified collection of bands (red, green, blue, near-infrared and shortwave infrared) from the Landsat Collection 2 Level-2 atmosperically corrected surface reflectance data, collected by the Landsat 8 satellite.\n",
    "\n",
    "The data was accessed and pre-processed in the Microsoft Planetary Computer to remove data outside land and coarsen the spatial resolution (Landsat Collection in MPC). Data should be used for visualization purposes only.\n",
    "\n",
    "Access here: \n",
    "\n",
    "**3) \n",
    "\n",
    "A shapefile of fire perimeters in California during 2017. The state of California contains geospatial data of  California's Fire Wildfire Perimeters and Prescribed Burns hosted on the CAL FIRE AGeoportal. You can access it here: "
   ]
  },
  {
   "cell_type": "markdown",
   "id": "10844809",
   "metadata": {},
   "source": [
    "## Final Output\n"
   ]
  },
  {
   "cell_type": "code",
   "execution_count": null,
   "id": "970ed2cf",
   "metadata": {},
   "outputs": [],
   "source": [
    "# TBD"
   ]
  },
  {
   "cell_type": "markdown",
   "id": "5ca5baf4",
   "metadata": {},
   "source": [
    "## Data Exploration\n",
    "\n",
    "#### Import Libraries and functions:  "
   ]
  },
  {
   "cell_type": "code",
   "execution_count": 1,
   "id": "1237e1a3",
   "metadata": {},
   "outputs": [
    {
     "name": "stdout",
     "output_type": "stream",
     "text": [
      "Intel MKL WARNING: Support of Intel(R) Streaming SIMD Extensions 4.2 (Intel(R) SSE4.2) enabled only processors has been deprecated. Intel oneAPI Math Kernel Library 2025.0 will require Intel(R) Advanced Vector Extensions (Intel(R) AVX) instructions.\n",
      "Intel MKL WARNING: Support of Intel(R) Streaming SIMD Extensions 4.2 (Intel(R) SSE4.2) enabled only processors has been deprecated. Intel oneAPI Math Kernel Library 2025.0 will require Intel(R) Advanced Vector Extensions (Intel(R) AVX) instructions.\n"
     ]
    }
   ],
   "source": [
    "#import libraries\n",
    "import os\n",
    "import numpy as np\n",
    "import pandas as pd\n",
    "import matplotlib.pyplot as plt\n",
    "import matplotlib.patches as mpatches\n",
    "import xarray as xr\n",
    "import rioxarray as rioxr\n",
    "import geopandas as gpd\n",
    "from rasterio.features import rasterize"
   ]
  },
  {
   "cell_type": "markdown",
   "id": "2c016149",
   "metadata": {},
   "source": [
    "#### Import Data\n",
    "Import 2017 and 2018 aqi data "
   ]
  },
  {
   "cell_type": "code",
   "execution_count": 2,
   "id": "43697da1",
   "metadata": {},
   "outputs": [],
   "source": [
    "\n",
    "# read in data from 2017 URL \n",
    "aqi_17 = pd.read_csv(\"https://aqs.epa.gov/aqsweb/airdata/daily_aqi_by_county_2017.zip\") \n",
    "# read in data from 2017 URL \n",
    "aqi_18 = pd.read_csv('https://aqs.epa.gov/aqsweb/airdata/daily_aqi_by_county_2018.zip')"
   ]
  },
  {
   "cell_type": "markdown",
   "id": "3efd4c07",
   "metadata": {},
   "source": [
    "#### Prepare Data\n",
    "\n"
   ]
  },
  {
   "cell_type": "code",
   "execution_count": 3,
   "id": "c1628957",
   "metadata": {},
   "outputs": [],
   "source": [
    "# combine 2017 and 2018 into a single df using concatenation\n",
    "aqi = pd.concat([aqi_17, aqi_18])\n",
    "# "
   ]
  },
  {
   "cell_type": "markdown",
   "id": "2cd906a8",
   "metadata": {},
   "source": [
    "Clean and make datatypes of columns appropaite to perform arithmetic functions: "
   ]
  },
  {
   "cell_type": "code",
   "execution_count": 4,
   "id": "f6c4d490",
   "metadata": {},
   "outputs": [],
   "source": [
    "# combine 2017 and 2018 into a single df using concatenation\n",
    "aqi = pd.concat([aqi_17, aqi_18])\n",
    "\n",
    "#clean the column names, removing spaces and turning all strings to lowercase\n",
    "aqi.columns = aqi.columns.str.lower().str.replace(' ','_') #code provided\n",
    "\n",
    "# create subset of SB County w/desired columns\n",
    "aqi_sb = aqi.loc[aqi['county_name']=='Santa Barbara', #row-selection\n",
    "       ['date','aqi','category','defining_parameter', 'defining_site','number_of_sites_reporting']] #column-selection\n",
    "\n",
    "# change date column to object type = datatime\n",
    "aqi_sb.date = pd.to_datetime(aqi_sb.date)"
   ]
  },
  {
   "cell_type": "code",
   "execution_count": 5,
   "id": "a6d8bd1b",
   "metadata": {},
   "outputs": [
    {
     "data": {
      "text/plain": [
       "(730, 6)"
      ]
     },
     "execution_count": 5,
     "metadata": {},
     "output_type": "execute_result"
    }
   ],
   "source": [
    "aqi_sb.shape"
   ]
  },
  {
   "cell_type": "code",
   "execution_count": 6,
   "id": "5afecfc9",
   "metadata": {},
   "outputs": [
    {
     "data": {
      "text/html": [
       "<div>\n",
       "<style scoped>\n",
       "    .dataframe tbody tr th:only-of-type {\n",
       "        vertical-align: middle;\n",
       "    }\n",
       "\n",
       "    .dataframe tbody tr th {\n",
       "        vertical-align: top;\n",
       "    }\n",
       "\n",
       "    .dataframe thead th {\n",
       "        text-align: right;\n",
       "    }\n",
       "</style>\n",
       "<table border=\"1\" class=\"dataframe\">\n",
       "  <thead>\n",
       "    <tr style=\"text-align: right;\">\n",
       "      <th></th>\n",
       "      <th>date</th>\n",
       "      <th>aqi</th>\n",
       "      <th>category</th>\n",
       "      <th>defining_parameter</th>\n",
       "      <th>defining_site</th>\n",
       "      <th>number_of_sites_reporting</th>\n",
       "    </tr>\n",
       "  </thead>\n",
       "  <tbody>\n",
       "    <tr>\n",
       "      <th>28648</th>\n",
       "      <td>2017-01-01</td>\n",
       "      <td>39</td>\n",
       "      <td>Good</td>\n",
       "      <td>Ozone</td>\n",
       "      <td>06-083-4003</td>\n",
       "      <td>12</td>\n",
       "    </tr>\n",
       "    <tr>\n",
       "      <th>28649</th>\n",
       "      <td>2017-01-02</td>\n",
       "      <td>36</td>\n",
       "      <td>Good</td>\n",
       "      <td>Ozone</td>\n",
       "      <td>06-083-4003</td>\n",
       "      <td>11</td>\n",
       "    </tr>\n",
       "    <tr>\n",
       "      <th>28650</th>\n",
       "      <td>2017-01-03</td>\n",
       "      <td>71</td>\n",
       "      <td>Moderate</td>\n",
       "      <td>PM10</td>\n",
       "      <td>06-083-4003</td>\n",
       "      <td>12</td>\n",
       "    </tr>\n",
       "    <tr>\n",
       "      <th>28651</th>\n",
       "      <td>2017-01-04</td>\n",
       "      <td>34</td>\n",
       "      <td>Good</td>\n",
       "      <td>Ozone</td>\n",
       "      <td>06-083-4003</td>\n",
       "      <td>13</td>\n",
       "    </tr>\n",
       "    <tr>\n",
       "      <th>28652</th>\n",
       "      <td>2017-01-05</td>\n",
       "      <td>37</td>\n",
       "      <td>Good</td>\n",
       "      <td>Ozone</td>\n",
       "      <td>06-083-4003</td>\n",
       "      <td>12</td>\n",
       "    </tr>\n",
       "    <tr>\n",
       "      <th>...</th>\n",
       "      <td>...</td>\n",
       "      <td>...</td>\n",
       "      <td>...</td>\n",
       "      <td>...</td>\n",
       "      <td>...</td>\n",
       "      <td>...</td>\n",
       "    </tr>\n",
       "    <tr>\n",
       "      <th>29128</th>\n",
       "      <td>2018-12-27</td>\n",
       "      <td>37</td>\n",
       "      <td>Good</td>\n",
       "      <td>Ozone</td>\n",
       "      <td>06-083-1025</td>\n",
       "      <td>11</td>\n",
       "    </tr>\n",
       "    <tr>\n",
       "      <th>29129</th>\n",
       "      <td>2018-12-28</td>\n",
       "      <td>39</td>\n",
       "      <td>Good</td>\n",
       "      <td>Ozone</td>\n",
       "      <td>06-083-1021</td>\n",
       "      <td>12</td>\n",
       "    </tr>\n",
       "    <tr>\n",
       "      <th>29130</th>\n",
       "      <td>2018-12-29</td>\n",
       "      <td>39</td>\n",
       "      <td>Good</td>\n",
       "      <td>Ozone</td>\n",
       "      <td>06-083-1021</td>\n",
       "      <td>12</td>\n",
       "    </tr>\n",
       "    <tr>\n",
       "      <th>29131</th>\n",
       "      <td>2018-12-30</td>\n",
       "      <td>39</td>\n",
       "      <td>Good</td>\n",
       "      <td>Ozone</td>\n",
       "      <td>06-083-1021</td>\n",
       "      <td>12</td>\n",
       "    </tr>\n",
       "    <tr>\n",
       "      <th>29132</th>\n",
       "      <td>2018-12-31</td>\n",
       "      <td>38</td>\n",
       "      <td>Good</td>\n",
       "      <td>Ozone</td>\n",
       "      <td>06-083-1021</td>\n",
       "      <td>12</td>\n",
       "    </tr>\n",
       "  </tbody>\n",
       "</table>\n",
       "<p>730 rows × 6 columns</p>\n",
       "</div>"
      ],
      "text/plain": [
       "            date  aqi  category defining_parameter defining_site  \\\n",
       "28648 2017-01-01   39      Good              Ozone   06-083-4003   \n",
       "28649 2017-01-02   36      Good              Ozone   06-083-4003   \n",
       "28650 2017-01-03   71  Moderate               PM10   06-083-4003   \n",
       "28651 2017-01-04   34      Good              Ozone   06-083-4003   \n",
       "28652 2017-01-05   37      Good              Ozone   06-083-4003   \n",
       "...          ...  ...       ...                ...           ...   \n",
       "29128 2018-12-27   37      Good              Ozone   06-083-1025   \n",
       "29129 2018-12-28   39      Good              Ozone   06-083-1021   \n",
       "29130 2018-12-29   39      Good              Ozone   06-083-1021   \n",
       "29131 2018-12-30   39      Good              Ozone   06-083-1021   \n",
       "29132 2018-12-31   38      Good              Ozone   06-083-1021   \n",
       "\n",
       "       number_of_sites_reporting  \n",
       "28648                         12  \n",
       "28649                         11  \n",
       "28650                         12  \n",
       "28651                         13  \n",
       "28652                         12  \n",
       "...                          ...  \n",
       "29128                         11  \n",
       "29129                         12  \n",
       "29130                         12  \n",
       "29131                         12  \n",
       "29132                         12  \n",
       "\n",
       "[730 rows x 6 columns]"
      ]
     },
     "execution_count": 6,
     "metadata": {},
     "output_type": "execute_result"
    }
   ],
   "source": [
    "aqi_sb[aqi] - aq"
   ]
  },
  {
   "cell_type": "markdown",
   "id": "cf06f014",
   "metadata": {},
   "source": [
    "## Analysis\n",
    "Analysis\n",
    "- Include subsections as necessary to guide reader through your analysis\n",
    "- Include checks to see operations worked\n",
    "- Checks must be short and informative: print specific attributes\n",
    "\n",
    "Inspecting the the daily AQI of Santa Barbara County would introduce a lot of noise into the analysis. A rolling 5 day average would seem like an appropiate modification to analyzing daily AQI readings. \n",
    "\n",
    "Here we will compute the 5 day rolling average"
   ]
  },
  {
   "cell_type": "code",
   "execution_count": 7,
   "id": "0cbae2d8",
   "metadata": {},
   "outputs": [],
   "source": [
    "# set date column as the index\n",
    "aqi_sb = aqi_sb.set_index('date')"
   ]
  },
  {
   "cell_type": "code",
   "execution_count": 20,
   "id": "0d658e42",
   "metadata": {},
   "outputs": [],
   "source": [
    "aqi_sb['aqi_difference'] = aqi_sb_subset['aqi'] - aqi_sb['five_day_average']"
   ]
  },
  {
   "cell_type": "markdown",
   "id": "bb0606d6",
   "metadata": {},
   "source": [
    "####  Context\n",
    "It is important to show the average along with the true value of AQI to visually see if the computation and the data make intuitive sense. \n",
    "\n",
    "Here I will check what the change from the true value and the rolling . First Check if dimensions of `aqi_sb_subset` is the same as `aqi_sb` that been modified with the 5 day average."
   ]
  },
  {
   "cell_type": "markdown",
   "id": "aaad4090",
   "metadata": {},
   "source": [
    "Here I attempted to find the residual of the daily aqi reading and the 5 day rollling average. "
   ]
  },
  {
   "cell_type": "code",
   "execution_count": null,
   "id": "00282a9a",
   "metadata": {},
   "outputs": [],
   "source": [
    "aqi_sb['aqi_difference'] = aqi_sb_subset['aqi'] - aqi_sb['five_day_average']"
   ]
  },
  {
   "cell_type": "code",
   "execution_count": 24,
   "id": "20ba515c",
   "metadata": {},
   "outputs": [
    {
     "data": {
      "text/plain": [
       "181.8"
      ]
     },
     "execution_count": 24,
     "metadata": {},
     "output_type": "execute_result"
    }
   ],
   "source": [
    "max(aqi_sb['aqi_difference'])"
   ]
  },
  {
   "cell_type": "code",
   "execution_count": 25,
   "id": "4744ffc2",
   "metadata": {},
   "outputs": [
    {
     "data": {
      "text/plain": [
       "-62.599999999999994"
      ]
     },
     "execution_count": 25,
     "metadata": {},
     "output_type": "execute_result"
    }
   ],
   "source": [
    "min(aqi_sb['aqi_difference'])"
   ]
  },
  {
   "cell_type": "code",
   "execution_count": 27,
   "id": "ea94cc32",
   "metadata": {},
   "outputs": [
    {
     "data": {
      "text/plain": [
       "<bound method Series.unique of date\n",
       "2017-01-01     0.000000\n",
       "2017-01-02    -1.500000\n",
       "2017-01-03    22.333333\n",
       "2017-01-04   -11.000000\n",
       "2017-01-05    -6.400000\n",
       "                ...    \n",
       "2018-12-27    -1.600000\n",
       "2018-12-28     0.400000\n",
       "2018-12-29     0.800000\n",
       "2018-12-30     1.200000\n",
       "2018-12-31    -0.400000\n",
       "Name: aqi_difference, Length: 730, dtype: float64>"
      ]
     },
     "execution_count": 27,
     "metadata": {},
     "output_type": "execute_result"
    }
   ],
   "source": []
  },
  {
   "cell_type": "markdown",
   "id": "a221e6dc",
   "metadata": {},
   "source": [
    "#### Visualization \n",
    "The purpose of this visualization is toshow both the daily AQI and the 5-day average from 2017 to 2018. "
   ]
  },
  {
   "cell_type": "code",
   "execution_count": 28,
   "id": "f8938e16",
   "metadata": {},
   "outputs": [
    {
     "data": {
      "text/plain": [
       "<Axes: title={'center': 'Santa Barbara Air Quality 2017-18'}, xlabel='date'>"
      ]
     },
     "execution_count": 28,
     "metadata": {},
     "output_type": "execute_result"
    },
    {
     "data": {
      "image/png": "[encoded data removed]",
      "text/plain": [
       "<Figure size 640x480 with 1 Axes>"
      ]
     },
     "metadata": {},
     "output_type": "display_data"
    }
   ],
   "source": [
    "#### Visualization \n",
    "\n",
    "aqi_sb.aqi.plot(color = '#66CDAA', legend = True) \n",
    "\n",
    "aqi_sb.five_day_average.plot(color = '#A01177', \n",
    "                            title = 'Santa Barbara Air Quality 2017-18',\n",
    "                            legend = True)"
   ]
  },
  {
   "cell_type": "markdown",
   "id": "b0e32d36",
   "metadata": {},
   "source": [
    "We can see the the AQI going up during the Thomas Fire in December 2017. There is a visible spike on December 2017. AQI is over 250 and nearly reaching 300 AQI index. Anything between 201 to 300 is very unhealthy and anything over 300 is deemed hazardous according to the EPA’s index. "
   ]
  },
  {
   "cell_type": "markdown",
   "id": "f0f89ccc",
   "metadata": {},
   "source": [
    "## Landsat 8 false color image"
   ]
  },
  {
   "cell_type": "code",
   "execution_count": null,
   "id": "74b2ccaf",
   "metadata": {},
   "outputs": [],
   "source": [
    "###  Data Exploration\n"
   ]
  },
  {
   "cell_type": "markdown",
   "id": "5c5b71cd",
   "metadata": {},
   "source": [
    "####  Fetch Raster Data "
   ]
  },
  {
   "cell_type": "code",
   "execution_count": 29,
   "id": "b6a759da",
   "metadata": {
    "scrolled": true
   },
   "outputs": [
    {
     "ename": "RasterioIOError",
     "evalue": "/Users/vanessa/Documents/MEDSFALL23/EDS220/homework/eds220-hw4-task3/data/landsat8-2018-01-26-sb-simplified.nc: No such file or directory",
     "output_type": "error",
     "traceback": [
      "\u001b[0;31m---------------------------------------------------------------------------\u001b[0m",
      "\u001b[0;31mKeyError\u001b[0m                                  Traceback (most recent call last)",
      "File \u001b[0;32m~/opt/anaconda3/envs/eds217_2023/lib/python3.10/site-packages/xarray/backends/file_manager.py:211\u001b[0m, in \u001b[0;36mCachingFileManager._acquire_with_cache_info\u001b[0;34m(self, needs_lock)\u001b[0m\n\u001b[1;32m    210\u001b[0m \u001b[38;5;28;01mtry\u001b[39;00m:\n\u001b[0;32m--> 211\u001b[0m     file \u001b[38;5;241m=\u001b[39m \u001b[38;5;28;43mself\u001b[39;49m\u001b[38;5;241;43m.\u001b[39;49m\u001b[43m_cache\u001b[49m\u001b[43m[\u001b[49m\u001b[38;5;28;43mself\u001b[39;49m\u001b[38;5;241;43m.\u001b[39;49m\u001b[43m_key\u001b[49m\u001b[43m]\u001b[49m\n\u001b[1;32m    212\u001b[0m \u001b[38;5;28;01mexcept\u001b[39;00m \u001b[38;5;167;01mKeyError\u001b[39;00m:\n",
      "File \u001b[0;32m~/opt/anaconda3/envs/eds217_2023/lib/python3.10/site-packages/xarray/backends/lru_cache.py:56\u001b[0m, in \u001b[0;36mLRUCache.__getitem__\u001b[0;34m(self, key)\u001b[0m\n\u001b[1;32m     55\u001b[0m \u001b[38;5;28;01mwith\u001b[39;00m \u001b[38;5;28mself\u001b[39m\u001b[38;5;241m.\u001b[39m_lock:\n\u001b[0;32m---> 56\u001b[0m     value \u001b[38;5;241m=\u001b[39m \u001b[38;5;28;43mself\u001b[39;49m\u001b[38;5;241;43m.\u001b[39;49m\u001b[43m_cache\u001b[49m\u001b[43m[\u001b[49m\u001b[43mkey\u001b[49m\u001b[43m]\u001b[49m\n\u001b[1;32m     57\u001b[0m     \u001b[38;5;28mself\u001b[39m\u001b[38;5;241m.\u001b[39m_cache\u001b[38;5;241m.\u001b[39mmove_to_end(key)\n",
      "\u001b[0;31mKeyError\u001b[0m: [<function open at 0x7fb1f13cc160>, ('/Users/vanessa/Documents/MEDSFALL23/EDS220/homework/eds220-hw4-task3/data/landsat8-2018-01-26-sb-simplified.nc',), 'r', (('sharing', False),), 'bcb3e6b0-a443-46ed-9cb8-5b33ab703269']",
      "\nDuring handling of the above exception, another exception occurred:\n",
      "\u001b[0;31mCPLE_OpenFailedError\u001b[0m                      Traceback (most recent call last)",
      "File \u001b[0;32mrasterio/_base.pyx:310\u001b[0m, in \u001b[0;36mrasterio._base.DatasetBase.__init__\u001b[0;34m()\u001b[0m\n",
      "File \u001b[0;32mrasterio/_base.pyx:221\u001b[0m, in \u001b[0;36mrasterio._base.open_dataset\u001b[0;34m()\u001b[0m\n",
      "File \u001b[0;32mrasterio/_err.pyx:221\u001b[0m, in \u001b[0;36mrasterio._err.exc_wrap_pointer\u001b[0;34m()\u001b[0m\n",
      "\u001b[0;31mCPLE_OpenFailedError\u001b[0m: /Users/vanessa/Documents/MEDSFALL23/EDS220/homework/eds220-hw4-task3/data/landsat8-2018-01-26-sb-simplified.nc: No such file or directory",
      "\nDuring handling of the above exception, another exception occurred:\n",
      "\u001b[0;31mRasterioIOError\u001b[0m                           Traceback (most recent call last)",
      "Cell \u001b[0;32mIn[29], line 3\u001b[0m\n\u001b[1;32m      1\u001b[0m \u001b[38;5;66;03m# load the nc data\u001b[39;00m\n\u001b[1;32m      2\u001b[0m data_path \u001b[38;5;241m=\u001b[39m os\u001b[38;5;241m.\u001b[39mpath\u001b[38;5;241m.\u001b[39mjoin(os\u001b[38;5;241m.\u001b[39mgetcwd(), \u001b[38;5;124m\"\u001b[39m\u001b[38;5;124mdata/landsat8-2018-01-26-sb-simplified.nc\u001b[39m\u001b[38;5;124m\"\u001b[39m)\n\u001b[0;32m----> 3\u001b[0m landsat \u001b[38;5;241m=\u001b[39m \u001b[43mrioxr\u001b[49m\u001b[38;5;241;43m.\u001b[39;49m\u001b[43mopen_rasterio\u001b[49m\u001b[43m(\u001b[49m\u001b[43mdata_path\u001b[49m\u001b[43m)\u001b[49m\n\u001b[1;32m      4\u001b[0m \u001b[38;5;28mprint\u001b[39m(landsat)\n",
      "File \u001b[0;32m~/opt/anaconda3/envs/eds217_2023/lib/python3.10/site-packages/rioxarray/_io.py:1124\u001b[0m, in \u001b[0;36mopen_rasterio\u001b[0;34m(filename, parse_coordinates, chunks, cache, lock, masked, mask_and_scale, variable, group, default_name, decode_times, decode_timedelta, band_as_variable, **open_kwargs)\u001b[0m\n\u001b[1;32m   1122\u001b[0m     \u001b[38;5;28;01melse\u001b[39;00m:\n\u001b[1;32m   1123\u001b[0m         manager \u001b[38;5;241m=\u001b[39m URIManager(file_opener, filename, mode\u001b[38;5;241m=\u001b[39m\u001b[38;5;124m\"\u001b[39m\u001b[38;5;124mr\u001b[39m\u001b[38;5;124m\"\u001b[39m, kwargs\u001b[38;5;241m=\u001b[39mopen_kwargs)\n\u001b[0;32m-> 1124\u001b[0m     riods \u001b[38;5;241m=\u001b[39m \u001b[43mmanager\u001b[49m\u001b[38;5;241;43m.\u001b[39;49m\u001b[43macquire\u001b[49m\u001b[43m(\u001b[49m\u001b[43m)\u001b[49m\n\u001b[1;32m   1125\u001b[0m     captured_warnings \u001b[38;5;241m=\u001b[39m rio_warnings\u001b[38;5;241m.\u001b[39mcopy()\n\u001b[1;32m   1127\u001b[0m \u001b[38;5;66;03m# raise the NotGeoreferencedWarning if applicable\u001b[39;00m\n",
      "File \u001b[0;32m~/opt/anaconda3/envs/eds217_2023/lib/python3.10/site-packages/xarray/backends/file_manager.py:193\u001b[0m, in \u001b[0;36mCachingFileManager.acquire\u001b[0;34m(self, needs_lock)\u001b[0m\n\u001b[1;32m    178\u001b[0m \u001b[38;5;28;01mdef\u001b[39;00m \u001b[38;5;21macquire\u001b[39m(\u001b[38;5;28mself\u001b[39m, needs_lock\u001b[38;5;241m=\u001b[39m\u001b[38;5;28;01mTrue\u001b[39;00m):\n\u001b[1;32m    179\u001b[0m \u001b[38;5;250m    \u001b[39m\u001b[38;5;124;03m\"\"\"Acquire a file object from the manager.\u001b[39;00m\n\u001b[1;32m    180\u001b[0m \n\u001b[1;32m    181\u001b[0m \u001b[38;5;124;03m    A new file is only opened if it has expired from the\u001b[39;00m\n\u001b[0;32m   (...)\u001b[0m\n\u001b[1;32m    191\u001b[0m \u001b[38;5;124;03m        An open file object, as returned by ``opener(*args, **kwargs)``.\u001b[39;00m\n\u001b[1;32m    192\u001b[0m \u001b[38;5;124;03m    \"\"\"\u001b[39;00m\n\u001b[0;32m--> 193\u001b[0m     file, _ \u001b[38;5;241m=\u001b[39m \u001b[38;5;28;43mself\u001b[39;49m\u001b[38;5;241;43m.\u001b[39;49m\u001b[43m_acquire_with_cache_info\u001b[49m\u001b[43m(\u001b[49m\u001b[43mneeds_lock\u001b[49m\u001b[43m)\u001b[49m\n\u001b[1;32m    194\u001b[0m     \u001b[38;5;28;01mreturn\u001b[39;00m file\n",
      "File \u001b[0;32m~/opt/anaconda3/envs/eds217_2023/lib/python3.10/site-packages/xarray/backends/file_manager.py:217\u001b[0m, in \u001b[0;36mCachingFileManager._acquire_with_cache_info\u001b[0;34m(self, needs_lock)\u001b[0m\n\u001b[1;32m    215\u001b[0m     kwargs \u001b[38;5;241m=\u001b[39m kwargs\u001b[38;5;241m.\u001b[39mcopy()\n\u001b[1;32m    216\u001b[0m     kwargs[\u001b[38;5;124m\"\u001b[39m\u001b[38;5;124mmode\u001b[39m\u001b[38;5;124m\"\u001b[39m] \u001b[38;5;241m=\u001b[39m \u001b[38;5;28mself\u001b[39m\u001b[38;5;241m.\u001b[39m_mode\n\u001b[0;32m--> 217\u001b[0m file \u001b[38;5;241m=\u001b[39m \u001b[38;5;28;43mself\u001b[39;49m\u001b[38;5;241;43m.\u001b[39;49m\u001b[43m_opener\u001b[49m\u001b[43m(\u001b[49m\u001b[38;5;241;43m*\u001b[39;49m\u001b[38;5;28;43mself\u001b[39;49m\u001b[38;5;241;43m.\u001b[39;49m\u001b[43m_args\u001b[49m\u001b[43m,\u001b[49m\u001b[43m \u001b[49m\u001b[38;5;241;43m*\u001b[39;49m\u001b[38;5;241;43m*\u001b[39;49m\u001b[43mkwargs\u001b[49m\u001b[43m)\u001b[49m\n\u001b[1;32m    218\u001b[0m \u001b[38;5;28;01mif\u001b[39;00m \u001b[38;5;28mself\u001b[39m\u001b[38;5;241m.\u001b[39m_mode \u001b[38;5;241m==\u001b[39m \u001b[38;5;124m\"\u001b[39m\u001b[38;5;124mw\u001b[39m\u001b[38;5;124m\"\u001b[39m:\n\u001b[1;32m    219\u001b[0m     \u001b[38;5;66;03m# ensure file doesn't get overridden when opened again\u001b[39;00m\n\u001b[1;32m    220\u001b[0m     \u001b[38;5;28mself\u001b[39m\u001b[38;5;241m.\u001b[39m_mode \u001b[38;5;241m=\u001b[39m \u001b[38;5;124m\"\u001b[39m\u001b[38;5;124ma\u001b[39m\u001b[38;5;124m\"\u001b[39m\n",
      "File \u001b[0;32m~/opt/anaconda3/envs/eds217_2023/lib/python3.10/site-packages/rasterio/env.py:451\u001b[0m, in \u001b[0;36mensure_env_with_credentials.<locals>.wrapper\u001b[0;34m(*args, **kwds)\u001b[0m\n\u001b[1;32m    448\u001b[0m     session \u001b[38;5;241m=\u001b[39m DummySession()\n\u001b[1;32m    450\u001b[0m \u001b[38;5;28;01mwith\u001b[39;00m env_ctor(session\u001b[38;5;241m=\u001b[39msession):\n\u001b[0;32m--> 451\u001b[0m     \u001b[38;5;28;01mreturn\u001b[39;00m \u001b[43mf\u001b[49m\u001b[43m(\u001b[49m\u001b[38;5;241;43m*\u001b[39;49m\u001b[43margs\u001b[49m\u001b[43m,\u001b[49m\u001b[43m \u001b[49m\u001b[38;5;241;43m*\u001b[39;49m\u001b[38;5;241;43m*\u001b[39;49m\u001b[43mkwds\u001b[49m\u001b[43m)\u001b[49m\n",
      "File \u001b[0;32m~/opt/anaconda3/envs/eds217_2023/lib/python3.10/site-packages/rasterio/__init__.py:304\u001b[0m, in \u001b[0;36mopen\u001b[0;34m(fp, mode, driver, width, height, count, crs, transform, dtype, nodata, sharing, **kwargs)\u001b[0m\n\u001b[1;32m    301\u001b[0m path \u001b[38;5;241m=\u001b[39m _parse_path(raw_dataset_path)\n\u001b[1;32m    303\u001b[0m \u001b[38;5;28;01mif\u001b[39;00m mode \u001b[38;5;241m==\u001b[39m \u001b[38;5;124m\"\u001b[39m\u001b[38;5;124mr\u001b[39m\u001b[38;5;124m\"\u001b[39m:\n\u001b[0;32m--> 304\u001b[0m     dataset \u001b[38;5;241m=\u001b[39m \u001b[43mDatasetReader\u001b[49m\u001b[43m(\u001b[49m\u001b[43mpath\u001b[49m\u001b[43m,\u001b[49m\u001b[43m \u001b[49m\u001b[43mdriver\u001b[49m\u001b[38;5;241;43m=\u001b[39;49m\u001b[43mdriver\u001b[49m\u001b[43m,\u001b[49m\u001b[43m \u001b[49m\u001b[43msharing\u001b[49m\u001b[38;5;241;43m=\u001b[39;49m\u001b[43msharing\u001b[49m\u001b[43m,\u001b[49m\u001b[43m \u001b[49m\u001b[38;5;241;43m*\u001b[39;49m\u001b[38;5;241;43m*\u001b[39;49m\u001b[43mkwargs\u001b[49m\u001b[43m)\u001b[49m\n\u001b[1;32m    305\u001b[0m \u001b[38;5;28;01melif\u001b[39;00m mode \u001b[38;5;241m==\u001b[39m \u001b[38;5;124m\"\u001b[39m\u001b[38;5;124mr+\u001b[39m\u001b[38;5;124m\"\u001b[39m:\n\u001b[1;32m    306\u001b[0m     dataset \u001b[38;5;241m=\u001b[39m get_writer_for_path(path, driver\u001b[38;5;241m=\u001b[39mdriver)(\n\u001b[1;32m    307\u001b[0m         path, mode, driver\u001b[38;5;241m=\u001b[39mdriver, sharing\u001b[38;5;241m=\u001b[39msharing, \u001b[38;5;241m*\u001b[39m\u001b[38;5;241m*\u001b[39mkwargs\n\u001b[1;32m    308\u001b[0m     )\n",
      "File \u001b[0;32mrasterio/_base.pyx:312\u001b[0m, in \u001b[0;36mrasterio._base.DatasetBase.__init__\u001b[0;34m()\u001b[0m\n",
      "\u001b[0;31mRasterioIOError\u001b[0m: /Users/vanessa/Documents/MEDSFALL23/EDS220/homework/eds220-hw4-task3/data/landsat8-2018-01-26-sb-simplified.nc: No such file or directory"
     ]
    }
   ],
   "source": [
    "# load the nc data\n",
    "data_path = os.path.join(os.getcwd(), \"data/landsat8-2018-01-26-sb-simplified.nc\")\n",
    "landsat = rioxr.open_rasterio(data_path)"
   ]
  },
  {
   "cell_type": "markdown",
   "id": "fe584f2f",
   "metadata": {},
   "source": [
    "Raster Exploratory Plot of Data Variables"
   ]
  },
  {
   "cell_type": "code",
   "execution_count": null,
   "id": "767c1188",
   "metadata": {},
   "outputs": [],
   "source": [
    "# exploration of landsat raster\n",
    "\n",
    "#exploratory plot\n",
    "\n",
    "fig, axs = plt.subplots(2, 2)\n",
    "\n",
    "landsat.red.plot(ax = axs[0, 0])\n",
    "axs[0, 0].set_title('Red')\n",
    "landsat.green.plot(ax = axs[0, 1])\n",
    "axs[0, 1].set_title('Green')\n",
    "landsat.blue.plot(ax = axs[1, 0])\n",
    "axs[1, 0].set_title('Blue')\n",
    "landsat.swir22.plot(ax = axs[1, 1])\n",
    "axs[1, 1].set_title('swir22')"
   ]
  },
  {
   "cell_type": "code",
   "execution_count": null,
   "id": "ddd560dd",
   "metadata": {},
   "outputs": [],
   "source": [
    "# check the raster's CRS\n",
    "landsat.rio.crs"
   ]
  },
  {
   "cell_type": "markdown",
   "id": "1607b8f9",
   "metadata": {},
   "source": [
    "###  Prepare Data\n"
   ]
  },
  {
   "cell_type": "code",
   "execution_count": null,
   "id": "44be3e21",
   "metadata": {},
   "outputs": [],
   "source": []
  }
 ],
 "metadata": {
  "kernelspec": {
   "display_name": "Python (eds217_2023)",
   "language": "python",
   "name": "eds217_2023"
  },
  "language_info": {
   "codemirror_mode": {
    "name": "ipython",
    "version": 3
   },
   "file_extension": ".py",
   "mimetype": "text/x-python",
   "name": "python",
   "nbconvert_exporter": "python",
   "pygments_lexer": "ipython3",
   "version": "3.10.12"
  }
 },
 "nbformat": 4,
 "nbformat_minor": 5
}
