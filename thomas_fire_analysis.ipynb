{
 "cells": [
  {
   "cell_type": "markdown",
   "id": "e963f549",
   "metadata": {},
   "source": [
    "# Thomas Wildfire Perimeter and Air Quality Index\n",
    "Hwk 2-Task 2: Air Quality Index Data + Hwk4-Task 2: False color image"
   ]
  },
  {
   "cell_type": "markdown",
   "id": "c1b6522a",
   "metadata": {},
   "source": [
    "Author: Vanessa Salgado\n",
    "\n",
    "Link to GitHub repository: https://github.com/Vanessa-Salgado/eds220-hw4-task3"
   ]
  },
  {
   "cell_type": "markdown",
   "id": "ecea0408",
   "metadata": {},
   "source": [
    "## Purpose\n",
    "The Thomas Fires was a massife wildfire that affected Ventura and Santa Barbara counties in December 2017. \n",
    "The Thomas Fire destroyed at least 1,063 structures, while damaging 280 others; and the fire caused over $2.2 billion (2018 USD) in damages. As of August 2020, the Thomas Fire is California's tenth-most destructive wildfire. In this notebook we analyze the Air Quality Index that occured the time leading up to and after the Thomas Fire. We will create a map of the Thomas Fire perimeter to visualize the damage using `landsat 8` imagery "
   ]
  },
  {
   "cell_type": "markdown",
   "id": "5584f3df",
   "metadata": {},
   "source": [
    "### Highlights\n",
    "\n",
    "* Data wrangling and exploration of with pandas\n",
    "* Geospatial data wrangling with geopandas\n",
    "* Merging of tabular and vector data\n",
    "* Creating and customizing raster map "
   ]
  },
  {
   "cell_type": "markdown",
   "id": "aefdc3ce",
   "metadata": {},
   "source": [
    "### Dataset Description\n",
    "\n",
    "In this notebook we use N datasets: \n",
    "\n",
    "**1) US EPA Air Quality Index(AQI)**\n",
    "\n",
    "The US Environmentla Protection Agency air quality collects data from outdoor monitors across the United States, Puerto Rico, and the U.S Virgin Islands. The data comes primarily from the AQS (Air Quality System) database.\n",
    "\n",
    "This data set was downloaded from the EPA AirData portal. The data was available from the Pre-Generate Data Files that collects daily AQI readings by county per year [https://aqs.epa.gov/aqsweb/airdata/download_files.html#AQI]. The files are updated twice per year: once in June to capture the complete data for the prior year and once in December to capture the data for the summer (ozone season). For this analysis we collect the will use the following columns of interest: \n",
    "\n",
    "* date: \n",
    "* county Name: \n",
    "* Date: \n",
    "* AQI: \n",
    "* \n",
    "\n",
    "We specifically look at 2017 and 2018 in order to study the before and after affects of the Thomas Fire\n",
    "\n",
    "Access here: \n",
    "\n",
    "**2)Landsat 8 Surface Reflectance Satellite Data**\n",
    "\n",
    "A simplified collection of bands (red, green, blue, near-infrared and shortwave infrared) from the Landsat Collection 2 Level-2 atmosperically corrected surface reflectance data, collected by the Landsat 8 satellite.\n",
    "\n",
    "The data was accessed and pre-processed in the Microsoft Planetary Computer to remove data outside land and coarsen the spatial resolution (Landsat Collection in MPC). Data should be used for visualization purposes only.\n",
    "\n",
    "Access here: \n",
    "\n",
    "**3) \n",
    "\n",
    "A shapefile of fire perimeters in California during 2017. The state of California contains geospatial data of  California's Fire Wildfire Perimeters and Prescribed Burns hosted on the CAL FIRE AGeoportal. You can access it here: "
   ]
  },
  {
   "cell_type": "markdown",
   "id": "e63cd47d",
   "metadata": {},
   "source": [
    "## Final Output\n"
   ]
  },
  {
   "cell_type": "code",
   "execution_count": null,
   "id": "c3006882",
   "metadata": {},
   "outputs": [],
   "source": [
    "# TBD"
   ]
  },
  {
   "cell_type": "markdown",
   "id": "806429e1",
   "metadata": {},
   "source": [
    "## Data Exploration\n",
    "\n",
    "#### Import Libraries and functions:  "
   ]
  },
  {
   "cell_type": "code",
   "execution_count": null,
   "id": "025aafd1",
   "metadata": {},
   "outputs": [],
   "source": [
    "#import libraries\n",
    "import os\n",
    "import numpy as np\n",
    "import pandas as pd\n",
    "import matplotlib.pyplot as plt\n",
    "import matplotlib.patches as mpatches\n",
    "import xarray as xr\n",
    "import rioxarray as rioxr\n",
    "import geopandas as gpd\n",
    "from rasterio.features import rasterize"
   ]
  },
  {
   "cell_type": "markdown",
   "id": "101167f6",
   "metadata": {},
   "source": [
    "#### Import Data"
   ]
  },
  {
   "cell_type": "code",
   "execution_count": 2,
   "id": "01fd6351",
   "metadata": {},
   "outputs": [
    {
     "ename": "NameError",
     "evalue": "name 'pd' is not defined",
     "output_type": "error",
     "traceback": [
      "\u001b[0;31m---------------------------------------------------------------------------\u001b[0m",
      "\u001b[0;31mNameError\u001b[0m                                 Traceback (most recent call last)",
      "Cell \u001b[0;32mIn[2], line 2\u001b[0m\n\u001b[1;32m      1\u001b[0m \u001b[38;5;66;03m#import 2017 and 2018 aqi data \u001b[39;00m\n\u001b[0;32m----> 2\u001b[0m aqi_18 \u001b[38;5;241m=\u001b[39m \u001b[43mpd\u001b[49m\u001b[38;5;241m.\u001b[39mread_csv(\u001b[38;5;124m'\u001b[39m\u001b[38;5;124mhttps://aqs.epa.gov/aqsweb/airdata/daily_aqi_by_county_2018.zip\u001b[39m\u001b[38;5;124m'\u001b[39m)\n",
      "\u001b[0;31mNameError\u001b[0m: name 'pd' is not defined"
     ]
    }
   ],
   "source": [
    "#import 2017 and 2018 aqi data \n",
    "aqi_18 = pd.read_csv('https://aqs.epa.gov/aqsweb/airdata/daily_aqi_by_county_2018.zip')"
   ]
  },
  {
   "cell_type": "markdown",
   "id": "95939a3f",
   "metadata": {},
   "source": [
    "#### Prepare Data\n",
    "\n"
   ]
  },
  {
   "cell_type": "code",
   "execution_count": null,
   "id": "d827edd4",
   "metadata": {},
   "outputs": [],
   "source": [
    "# combine 2017 and 2018 into a single df using concatenation\n",
    "aqi = pd.concat([aqi_17, aqi_18])\n",
    "\n",
    "# "
   ]
  },
  {
   "cell_type": "markdown",
   "id": "6767da84",
   "metadata": {},
   "source": [
    "Clean and make datatypes of columns appropaite to perform arithmetic functions: "
   ]
  },
  {
   "cell_type": "code",
   "execution_count": null,
   "id": "899d8d7c",
   "metadata": {},
   "outputs": [],
   "source": [
    "# combine 2017 and 2018 into a single df using concatenation\n",
    "aqi = pd.concat([aqi_17, aqi_18])\n",
    "\n",
    "#clean the column names, removing spaces and turning all strings to lowercase\n",
    "aqi.columns = aqi.columns.str.lower().str.replace(' ','_') #code provided\n",
    "\n",
    "# create subset of SB County w/desired columns\n",
    "aqi_sb = aqi.loc[aqi['county_name']=='Santa Barbara', #row-selection\n",
    "       ['date','aqi','category','defining_parameter', 'defining_site','number_of_sites_reporting']] #column-selection\n",
    "\n",
    "# change date column to object type = datatime\n",
    "aqi_sb.date = pd.to_datetime(aqi_sb.date)"
   ]
  },
  {
   "cell_type": "markdown",
   "id": "9177c723",
   "metadata": {},
   "source": [
    "## Analysis\n",
    "Analysis\n",
    "- Include subsections as necessary to guide reader through your analysis\n",
    "- Include checks to see operations worked\n",
    "- Checks must be short and informative: print specific attributes\n",
    "\n",
    "Inspecting the the daily AQI of Santa Barbara County would introduce a lot of noise into the analysis. A rolling 5 day average would seem like an appropiate modification to analyzing daily AQI readings. "
   ]
  },
  {
   "cell_type": "code",
   "execution_count": null,
   "id": "881c082f",
   "metadata": {},
   "outputs": [],
   "source": []
  },
  {
   "cell_type": "markdown",
   "id": "0b7de0a2",
   "metadata": {},
   "source": [
    "### Fetch data "
   ]
  },
  {
   "cell_type": "markdown",
   "id": "eae3a35f",
   "metadata": {},
   "source": [
    "### Raster Visualization\n"
   ]
  }
 ],
 "metadata": {
  "kernelspec": {
   "display_name": "Python (eds217_2023)",
   "language": "python",
   "name": "eds217_2023"
  },
  "language_info": {
   "codemirror_mode": {
    "name": "ipython",
    "version": 3
   },
   "file_extension": ".py",
   "mimetype": "text/x-python",
   "name": "python",
   "nbconvert_exporter": "python",
   "pygments_lexer": "ipython3",
   "version": "3.10.12"
  }
 },
 "nbformat": 4,
 "nbformat_minor": 5
}
